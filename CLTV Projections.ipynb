{
 "cells": [
  {
   "cell_type": "code",
   "execution_count": 1,
   "metadata": {
    "collapsed": true
   },
   "outputs": [],
   "source": [
    "###SBG Source\n",
    "#https://github.com/jdmaturen/shifted_beta_geometric_py\n",
    "#https://marketing.wharton.upenn.edu/files/?whdmsaction=public:main.file&fileID=341"
   ]
  },
  {
   "cell_type": "code",
   "execution_count": 116,
   "metadata": {},
   "outputs": [],
   "source": [
    "from shifted_beta_geometric import derl, fit, predicted_survival\n",
    "import pandas as pd\n",
    "%matplotlib inline"
   ]
  },
  {
   "cell_type": "code",
   "execution_count": 117,
   "metadata": {
    "collapsed": true
   },
   "outputs": [],
   "source": [
    "example_data = [.869, .743, .653, .593, .551, .517, .491]"
   ]
  },
  {
   "cell_type": "code",
   "execution_count": 124,
   "metadata": {},
   "outputs": [],
   "source": [
    "duration = 60\n",
    "l = 60 - len(example_data)\n",
    "fee_schedule = [11,.3]\n",
    "fee_2 = [11,.15]"
   ]
  },
  {
   "cell_type": "code",
   "execution_count": 122,
   "metadata": {
    "collapsed": true
   },
   "outputs": [],
   "source": [
    "def reg_fit(example_data):\n",
    "    from shifted_beta_geometric import derl, fit, predicted_survival\n",
    "    alpha, beta = fit(example_data)\n",
    "    future = predicted_survival(alpha, beta, len(example_data) + l)[-l:]\n",
    "    example_data.extend(future)\n",
    "    return example_data"
   ]
  },
  {
   "cell_type": "code",
   "execution_count": 119,
   "metadata": {},
   "outputs": [],
   "source": [
    "df = pd.DataFrame(reg_fit(example_data))"
   ]
  },
  {
   "cell_type": "markdown",
   "metadata": {},
   "source": [
    "\n"
   ]
  },
  {
   "cell_type": "code",
   "execution_count": 128,
   "metadata": {},
   "outputs": [
    {
     "name": "stdout",
     "output_type": "stream",
     "text": [
      "0    6.122447\n",
      "dtype: float64\n",
      "0    9.888759\n",
      "dtype: float64\n",
      "0    12.65239\n",
      "dtype: float64\n"
     ]
    }
   ],
   "source": [
    "print df[:11].sum()\n",
    "print df[:23].sum()\n",
    "print df[:35].sum()"
   ]
  },
  {
   "cell_type": "code",
   "execution_count": 104,
   "metadata": {
    "collapsed": true
   },
   "outputs": [],
   "source": [
    "discount = 0.10  # rate at which we discount future revenue\n",
    "                 # to get value in today's terms, e.g. 10%/year\n",
    "t = len(example_data)\n",
    "residual_cohort_lifetime = derl(alpha, beta, discount, t)"
   ]
  },
  {
   "cell_type": "code",
   "execution_count": 105,
   "metadata": {
    "collapsed": true
   },
   "outputs": [],
   "source": [
    "v_avg = 0\n",
    "residual_cohort_clv = residual_cohort_lifetime * v_avg"
   ]
  },
  {
   "cell_type": "code",
   "execution_count": 106,
   "metadata": {},
   "outputs": [
    {
     "data": {
      "text/plain": [
       "8.2119167339742081"
      ]
     },
     "execution_count": 106,
     "metadata": {},
     "output_type": "execute_result"
    }
   ],
   "source": [
    "residual_cohort_lifetime"
   ]
  },
  {
   "cell_type": "code",
   "execution_count": null,
   "metadata": {
    "collapsed": true
   },
   "outputs": [],
   "source": []
  }
 ],
 "metadata": {
  "kernelspec": {
   "display_name": "Python 2",
   "language": "python",
   "name": "python2"
  },
  "language_info": {
   "codemirror_mode": {
    "name": "ipython",
    "version": 2
   },
   "file_extension": ".py",
   "mimetype": "text/x-python",
   "name": "python",
   "nbconvert_exporter": "python",
   "pygments_lexer": "ipython2",
   "version": "2.7.14"
  }
 },
 "nbformat": 4,
 "nbformat_minor": 2
}
